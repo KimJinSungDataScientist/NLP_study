{
 "cells": [
  {
   "cell_type": "code",
   "execution_count": 1,
   "id": "ef0c274c",
   "metadata": {},
   "outputs": [],
   "source": [
    "import pandas as pd"
   ]
  },
  {
   "cell_type": "code",
   "execution_count": 2,
   "id": "5adc354e",
   "metadata": {},
   "outputs": [
    {
     "name": "stdout",
     "output_type": "stream",
     "text": [
      "Index(['label', 'sms'], dtype='object')\n",
      "(5575, 2)\n"
     ]
    }
   ],
   "source": [
    "df = pd.read_csv('sms.tsv',sep='\\t',names = ['label','sms'])\n",
    "print(df.columns)\n",
    "print(df.shape)"
   ]
  },
  {
   "cell_type": "code",
   "execution_count": 3,
   "id": "c25063ff",
   "metadata": {},
   "outputs": [
    {
     "data": {
      "text/html": [
       "<div>\n",
       "<style scoped>\n",
       "    .dataframe tbody tr th:only-of-type {\n",
       "        vertical-align: middle;\n",
       "    }\n",
       "\n",
       "    .dataframe tbody tr th {\n",
       "        vertical-align: top;\n",
       "    }\n",
       "\n",
       "    .dataframe thead th {\n",
       "        text-align: right;\n",
       "    }\n",
       "</style>\n",
       "<table border=\"1\" class=\"dataframe\">\n",
       "  <thead>\n",
       "    <tr style=\"text-align: right;\">\n",
       "      <th></th>\n",
       "      <th>label</th>\n",
       "      <th>sms</th>\n",
       "    </tr>\n",
       "  </thead>\n",
       "  <tbody>\n",
       "    <tr>\n",
       "      <th>0</th>\n",
       "      <td>ham</td>\n",
       "      <td>Go until jurong point, crazy.. Available only ...</td>\n",
       "    </tr>\n",
       "    <tr>\n",
       "      <th>1</th>\n",
       "      <td>ham</td>\n",
       "      <td>Ok lar... Joking wif u oni...</td>\n",
       "    </tr>\n",
       "    <tr>\n",
       "      <th>2</th>\n",
       "      <td>spam</td>\n",
       "      <td>Free entry in 2 a wkly comp to win FA Cup fina...</td>\n",
       "    </tr>\n",
       "    <tr>\n",
       "      <th>3</th>\n",
       "      <td>spam</td>\n",
       "      <td>%^^×？×^×&amp;#****,&gt;,;//×&amp;&gt;&gt;*(*^%=÷#~^&amp;,****)</td>\n",
       "    </tr>\n",
       "    <tr>\n",
       "      <th>4</th>\n",
       "      <td>ham</td>\n",
       "      <td>U dun say so early hor... U c already then say...</td>\n",
       "    </tr>\n",
       "  </tbody>\n",
       "</table>\n",
       "</div>"
      ],
      "text/plain": [
       "  label                                                sms\n",
       "0   ham  Go until jurong point, crazy.. Available only ...\n",
       "1   ham                      Ok lar... Joking wif u oni...\n",
       "2  spam  Free entry in 2 a wkly comp to win FA Cup fina...\n",
       "3  spam          %^^×？×^×&#****,>,;//×&>>*(*^%=÷#~^&,****)\n",
       "4   ham  U dun say so early hor... U c already then say..."
      ]
     },
     "execution_count": 3,
     "metadata": {},
     "output_type": "execute_result"
    }
   ],
   "source": [
    "df.head()"
   ]
  },
  {
   "cell_type": "code",
   "execution_count": 4,
   "id": "b2d44e27",
   "metadata": {},
   "outputs": [
    {
     "name": "stdout",
     "output_type": "stream",
     "text": [
      "# of classes: 2\n",
      "['ham', 'spam']\n",
      "{'ham': 0, 'spam': 1}\n"
     ]
    }
   ],
   "source": [
    "classes = sorted(set(df['label']))\n",
    "class_to_idx = {}\n",
    "\n",
    "for i, c in enumerate(classes):\n",
    "    class_to_idx.update({c:i})\n",
    "\n",
    "nclass = len(classes)\n",
    "\n",
    "print('# of classes: %d' %nclass)\n",
    "print(classes)\n",
    "print(class_to_idx)"
   ]
  },
  {
   "cell_type": "code",
   "execution_count": 5,
   "id": "db8277f8",
   "metadata": {},
   "outputs": [],
   "source": [
    "# new_df = pd.DataFrame({'label':df['label'],\n",
    "#                       'sms':df['sms'].str.slice(\n",
    "#                       start=0,stop=max_length)})"
   ]
  },
  {
   "cell_type": "code",
   "execution_count": 6,
   "id": "71539886",
   "metadata": {},
   "outputs": [],
   "source": [
    "new_df = pd.DataFrame(df.drop_duplicates())"
   ]
  },
  {
   "cell_type": "code",
   "execution_count": 7,
   "id": "9978468a",
   "metadata": {},
   "outputs": [
    {
     "data": {
      "text/html": [
       "<div>\n",
       "<style scoped>\n",
       "    .dataframe tbody tr th:only-of-type {\n",
       "        vertical-align: middle;\n",
       "    }\n",
       "\n",
       "    .dataframe tbody tr th {\n",
       "        vertical-align: top;\n",
       "    }\n",
       "\n",
       "    .dataframe thead th {\n",
       "        text-align: right;\n",
       "    }\n",
       "</style>\n",
       "<table border=\"1\" class=\"dataframe\">\n",
       "  <thead>\n",
       "    <tr style=\"text-align: right;\">\n",
       "      <th></th>\n",
       "      <th>label</th>\n",
       "      <th>sms</th>\n",
       "    </tr>\n",
       "  </thead>\n",
       "  <tbody>\n",
       "    <tr>\n",
       "      <th>0</th>\n",
       "      <td>spam</td>\n",
       "      <td>URGENT! Last weekend's draw shows that you hav...</td>\n",
       "    </tr>\n",
       "    <tr>\n",
       "      <th>1</th>\n",
       "      <td>spam</td>\n",
       "      <td>Wanna have a laugh? Try CHIT-CHAT on your mobi...</td>\n",
       "    </tr>\n",
       "    <tr>\n",
       "      <th>2</th>\n",
       "      <td>ham</td>\n",
       "      <td>No I'm good for the movie, is it ok if I leave...</td>\n",
       "    </tr>\n",
       "    <tr>\n",
       "      <th>3</th>\n",
       "      <td>ham</td>\n",
       "      <td>Fyi I'm gonna call you sporadically starting a...</td>\n",
       "    </tr>\n",
       "    <tr>\n",
       "      <th>4</th>\n",
       "      <td>ham</td>\n",
       "      <td>Ü say until like dat i dun buy ericsson oso ca...</td>\n",
       "    </tr>\n",
       "  </tbody>\n",
       "</table>\n",
       "</div>"
      ],
      "text/plain": [
       "  label                                                sms\n",
       "0  spam  URGENT! Last weekend's draw shows that you hav...\n",
       "1  spam  Wanna have a laugh? Try CHIT-CHAT on your mobi...\n",
       "2   ham  No I'm good for the movie, is it ok if I leave...\n",
       "3   ham  Fyi I'm gonna call you sporadically starting a...\n",
       "4   ham  Ü say until like dat i dun buy ericsson oso ca..."
      ]
     },
     "execution_count": 7,
     "metadata": {},
     "output_type": "execute_result"
    }
   ],
   "source": [
    "df_shuffled = new_df.sample(frac=1).reset_index(drop=True)\n",
    "df_shuffled.head()"
   ]
  },
  {
   "cell_type": "code",
   "execution_count": 8,
   "id": "f37c2729",
   "metadata": {},
   "outputs": [
    {
     "name": "stdout",
     "output_type": "stream",
     "text": [
      "index for train: 0~4654\n",
      "inedx for test: 4654~5171\n"
     ]
    }
   ],
   "source": [
    "train_ratio = 0.9\n",
    "\n",
    "s,e = 0,int(df_shuffled.shape[0]*train_ratio)\n",
    "df_train = pd.DataFrame({'label':df_shuffled['label'][s:e],\n",
    "                        'sms':df_shuffled['sms'][s:e]})\n",
    "print('index for train: %d~%d' %(s,e))\n",
    "\n",
    "s,e = e, e+int(df_shuffled.shape[0]*(1.0 - train_ratio))\n",
    "print('inedx for test: %d~%d' %(s,e))\n",
    "df_test = pd.DataFrame({'label':df_shuffled['label'][s:e],\n",
    "                       'sms':df_shuffled['sms'][s:e]})"
   ]
  },
  {
   "cell_type": "code",
   "execution_count": 9,
   "id": "1f8e6631",
   "metadata": {},
   "outputs": [
    {
     "name": "stdout",
     "output_type": "stream",
     "text": [
      "(4654, 2)\n",
      "(517, 2)\n"
     ]
    }
   ],
   "source": [
    "print(df_train.shape)\n",
    "print(df_test.shape)"
   ]
  },
  {
   "cell_type": "code",
   "execution_count": 10,
   "id": "90850260",
   "metadata": {},
   "outputs": [],
   "source": [
    "df_train.to_csv('./sms.maxlen.uniq.shuf.train.tsv',\n",
    "               header=False, index=False, sep='\\t')\n",
    "df_test.to_csv('./sms.maxlen.uniq.shuf.test.tsv',\n",
    "               header=False, index=False, sep='\\t')"
   ]
  },
  {
   "cell_type": "code",
   "execution_count": 15,
   "id": "98a7f1f4",
   "metadata": {},
   "outputs": [],
   "source": [
    "import torch\n",
    "import torch.nn as nn\n",
    "import torchvision.datasets as dset\n",
    "import torchvision.transforms as transforms\n",
    "import matplotlib.pyplot as plt\n",
    "from torch.autograd import Variable\n",
    "import numpy as np"
   ]
  },
  {
   "cell_type": "code",
   "execution_count": 16,
   "id": "85c0970f",
   "metadata": {},
   "outputs": [],
   "source": [
    "batch_size = 128\n",
    "num_epochs = 10\n",
    "\n",
    "word_vec_size = 256\n",
    "dropout_p = 0.3\n",
    "\n",
    "hidden_size = 512\n",
    "num_layers = 4\n",
    "\n",
    "learning_rate = 0.001"
   ]
  },
  {
   "cell_type": "code",
   "execution_count": 17,
   "id": "28c20d5a",
   "metadata": {},
   "outputs": [],
   "source": [
    "device = torch.device('cuda' if torch.cuda.is_available() else 'cpu')"
   ]
  },
  {
   "cell_type": "code",
   "execution_count": 34,
   "id": "8260d2fa",
   "metadata": {},
   "outputs": [],
   "source": [
    "from data_loader import DataLoader"
   ]
  },
  {
   "cell_type": "code",
   "execution_count": 35,
   "id": "ea09797f",
   "metadata": {},
   "outputs": [],
   "source": [
    "loaders = DataLoader(\n",
    "    train_fn='./sms.maxlen.uniq.shuf.train.tsv',\n",
    "    batch_size=batch_size,\n",
    "    valid_ratio=.2,\n",
    "    device=-1,\n",
    "    max_vocab=999999,\n",
    "    min_freq=5,\n",
    ")"
   ]
  },
  {
   "cell_type": "code",
   "execution_count": 37,
   "id": "66ac2988",
   "metadata": {},
   "outputs": [],
   "source": [
    "test_loaders = DataLoader(\n",
    "    train_fn='./sms.maxlen.uniq.shuf.test.tsv',\n",
    "    batch_size=batch_size,\n",
    "    valid_ratio=.01,\n",
    "    device=-1,\n",
    "    max_vocab=999999,\n",
    "    min_freq=5,\n",
    ")"
   ]
  },
  {
   "cell_type": "code",
   "execution_count": 38,
   "id": "a0d609ea",
   "metadata": {},
   "outputs": [
    {
     "name": "stdout",
     "output_type": "stream",
     "text": [
      "|train| =  3723 |valid| = 931\n",
      "|vocab| = 1543 |classes| = 2\n"
     ]
    }
   ],
   "source": [
    "print('|train| = ', len(loaders.train_loader.dataset),\n",
    "     '|valid| =', len(loaders.valid_loader.dataset))\n",
    "\n",
    "vocab_size = len(loaders.text.vocab)\n",
    "num_classes = len(loaders.label.vocab)\n",
    "print('|vocab| =',vocab_size, '|classes| =',num_classes)"
   ]
  },
  {
   "cell_type": "code",
   "execution_count": 39,
   "id": "e569d7a6",
   "metadata": {},
   "outputs": [
    {
     "name": "stdout",
     "output_type": "stream",
     "text": [
      "[0]\n",
      "한 번에 로드되는 데이터 크기: 128\n",
      "label:  0\n",
      "text:  (22,)\n",
      "label:  1\n",
      "text:  (22,)\n",
      "label:  0\n",
      "text:  (22,)\n",
      "[1]\n",
      "한 번에 로드되는 데이터 크기: 128\n",
      "label:  0\n",
      "text:  (25,)\n",
      "label:  0\n",
      "text:  (25,)\n",
      "label:  0\n",
      "text:  (25,)\n",
      "[2]\n",
      "한 번에 로드되는 데이터 크기: 128\n",
      "label:  0\n",
      "text:  (17,)\n",
      "label:  1\n",
      "text:  (17,)\n",
      "label:  0\n",
      "text:  (17,)\n",
      "[3]\n",
      "한 번에 로드되는 데이터 크기: 128\n",
      "label:  0\n",
      "text:  (30,)\n",
      "label:  1\n",
      "text:  (30,)\n",
      "label:  1\n",
      "text:  (30,)\n"
     ]
    }
   ],
   "source": [
    "n = 3\n",
    "for i, data in enumerate(loaders.train_loader):\n",
    "    labels = data.label\n",
    "    texts = data.text\n",
    "    \n",
    "    if i>n:\n",
    "        break\n",
    "    print('[%d]' %i)\n",
    "    print('한 번에 로드되는 데이터 크기:',len(labels))\n",
    "    \n",
    "    for j in range(n):\n",
    "        label = labels[j].numpy()\n",
    "        text = texts[j].numpy()\n",
    "        print('label: ', label)\n",
    "        print('text: ',text.shape)"
   ]
  },
  {
   "cell_type": "code",
   "execution_count": 43,
   "id": "05dba1d0",
   "metadata": {},
   "outputs": [],
   "source": [
    "class RNN(nn.Module):\n",
    "    def __init__(self,\n",
    "                input_size,\n",
    "                word_vec_size,\n",
    "                hidden_size,\n",
    "                n_classes,\n",
    "                num_layers=4,\n",
    "                dropout_p=0.3):\n",
    "        super(RNN, self).__init__()\n",
    "        \n",
    "        self.input_size = input_size\n",
    "        self.word_vec_size = word_vec_size\n",
    "        self.hidden_size = hidden_size\n",
    "        self.n_classes = n_classes\n",
    "        self.num_layers = num_layers\n",
    "        self.dropout_p = dropout_p\n",
    "        \n",
    "        self.emb = nn.Embedding(input_size, word_vec_size)\n",
    "        \n",
    "        self.lstm = nn.LSTM(input_size=word_vec_size,\n",
    "                           hidden_size = hidden_size,\n",
    "                           num_layers = num_layers,\n",
    "                           dropout=dropout_p,\n",
    "                           batch_first=True,\n",
    "                           bidirectional=True)\n",
    "        self.fc = nn.Linear(hidden_size*2, num_classes)\n",
    "        self.activation = nn.LogSoftmax(dim=-1)\n",
    "        \n",
    "    def forward(self, x):\n",
    "        x = self.emb(x)\n",
    "        \n",
    "        x, _ = self.lstm(x)\n",
    "        \n",
    "        out = self.activation(self.fc(x[:,-1]))\n",
    "        \n",
    "        return out\n",
    "    "
   ]
  },
  {
   "cell_type": "code",
   "execution_count": 44,
   "id": "a745df4d",
   "metadata": {},
   "outputs": [],
   "source": [
    "model = RNN(input_size = vocab_size,\n",
    "           word_vec_size=word_vec_size,\n",
    "           hidden_size=hidden_size,\n",
    "           n_classes=num_classes,\n",
    "           num_layers=num_layers,\n",
    "           dropout_p=dropout_p)"
   ]
  },
  {
   "cell_type": "code",
   "execution_count": 45,
   "id": "08297cb8",
   "metadata": {},
   "outputs": [],
   "source": [
    "def ComputeAccr(dloader, imodel):\n",
    "    correct = 0\n",
    "    total = 0\n",
    "    \n",
    "    model.eval()\n",
    "    for i, data in enumerate(dloader):\n",
    "        texts = data.text.to(device)\n",
    "        labels = data.label.to(device)\n",
    "        \n",
    "        output = model(texts)\n",
    "        _, output_index = torch.max(output, 1)\n",
    "        total+=labels.size(0)\n",
    "        correct += (output_index==labels).sum().float()\n",
    "        \n",
    "    model.train()\n",
    "    return (100*correct/total).numpy()"
   ]
  },
  {
   "cell_type": "code",
   "execution_count": 46,
   "id": "5beab31e",
   "metadata": {},
   "outputs": [
    {
     "name": "stdout",
     "output_type": "stream",
     "text": [
      "Accuracy of Test Data: 13.00\n"
     ]
    }
   ],
   "source": [
    "print('Accuracy of Test Data: %.2f' %ComputeAccr(loaders.valid_loader,model))"
   ]
  },
  {
   "cell_type": "code",
   "execution_count": 47,
   "id": "47361af2",
   "metadata": {},
   "outputs": [],
   "source": [
    "loss_func = nn.CrossEntropyLoss()\n",
    "optimizer = torch.optim.Adam(model.parameters(),lr=learning_rate)"
   ]
  },
  {
   "cell_type": "code",
   "execution_count": null,
   "id": "1c191b16",
   "metadata": {},
   "outputs": [
    {
     "name": "stdout",
     "output_type": "stream",
     "text": [
      "[0]\n",
      "[1]\n",
      "[2]\n",
      "[3]\n",
      "[4]\n",
      "[5]\n",
      "[6]\n",
      "[7]\n",
      "[8]\n",
      "[9]\n",
      "Epoch [1/10], Step [10/30], Loss: 0.0613,Accr:87.00\n",
      "[10]\n",
      "[11]\n",
      "[12]\n",
      "[13]\n",
      "[14]\n",
      "[15]\n",
      "[16]\n",
      "[17]\n",
      "[18]\n",
      "[19]\n",
      "Epoch [1/10], Step [20/30], Loss: 0.0072,Accr:86.04\n",
      "[20]\n",
      "[21]\n",
      "[22]\n",
      "[23]\n",
      "[24]\n",
      "[25]\n",
      "[26]\n",
      "[27]\n",
      "[28]\n",
      "[29]\n"
     ]
    }
   ],
   "source": [
    "total_step = len(loaders.train_loader)\n",
    "for epoch in range(num_epochs):\n",
    "    for i, [imgs, labels] in enumerate(loaders.train_loader):\n",
    "        texts = data.text.to(device)\n",
    "        labels = data.label.to(device)\n",
    "        \n",
    "        print('[%d]' %i)\n",
    "        \n",
    "        outputs = model(texts)\n",
    "        loss = loss_func(outputs, labels)\n",
    "        \n",
    "        optimizer.zero_grad()\n",
    "        loss.backward()\n",
    "        optimizer.step()\n",
    "        \n",
    "        if (i+1)%10==0:\n",
    "            print('Epoch [{}/{}], Step [{}/{}], Loss: {:.4f},Accr:{:.2f}'\n",
    "                 .format(epoch+1,num_epochs, i+1,total_step,\n",
    "                        loss.item(),\n",
    "                        ComputeAccr(loaders.valid_loader, model)))"
   ]
  },
  {
   "cell_type": "code",
   "execution_count": null,
   "id": "ed1ebe88",
   "metadata": {},
   "outputs": [],
   "source": [
    "print('accuracy of Valid Data: %.2f' %ComputeAccr(loaders.valid_loader, model))"
   ]
  },
  {
   "cell_type": "code",
   "execution_count": null,
   "id": "862f4c98",
   "metadata": {},
   "outputs": [],
   "source": [
    "netname='./nets/rnn_weight.pkl'\n",
    "torch.save(model,netname,)"
   ]
  }
 ],
 "metadata": {
  "kernelspec": {
   "display_name": "Python 3 (ipykernel)",
   "language": "python",
   "name": "python3"
  },
  "language_info": {
   "codemirror_mode": {
    "name": "ipython",
    "version": 3
   },
   "file_extension": ".py",
   "mimetype": "text/x-python",
   "name": "python",
   "nbconvert_exporter": "python",
   "pygments_lexer": "ipython3",
   "version": "3.9.6"
  }
 },
 "nbformat": 4,
 "nbformat_minor": 5
}
